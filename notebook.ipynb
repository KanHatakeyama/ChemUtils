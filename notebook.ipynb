{
 "cells": [
  {
   "cell_type": "code",
   "execution_count": 31,
   "metadata": {},
   "outputs": [
    {
     "name": "stdout",
     "output_type": "stream",
     "text": [
      "The autoreload extension is already loaded. To reload it, use:\n",
      "  %reload_ext autoreload\n",
      "algorithms []\n",
      "rdkit\n",
      "algorithms [<ChemGUI.calculators.Autodescriptor.RDKitDescriptors object at 0x00000230C95DDC10>]\n",
      "rdkit\n",
      "AvalonFP\n",
      "algorithms [<ChemGUI.calculators.Autodescriptor.RDKitDescriptors object at 0x00000230C95DDC10>, <ChemGUI.calculators.Autodescriptor.Fingerprint object at 0x00000230C969B790>]\n",
      "['*c1cccc(c1)Oc1ccc(cc1)c1ccc(cc1)Oc1cccc(c1)n1c(=O)c2c(c1=O)cc1c(c2)c(=O)n(c1=O)*', '*c1ccc(cc1)Oc1ccc(cc1)n1c(=O)c2c(c1=O)cc1c(c2)c(=O)n(c1=O)*', '*C(=O)Oc1ccc(cc1)OC(=O)c1ccc2c(c1)C(=O)N(C2=O)c1ccc(cc1)Oc1ccc(cc1)N1C(=O)c2c(C1=O)cc(cc2)*', '*c1ccc(cc1)Sc1ccc(cc1)n1c(=O)c2c(c1=O)cc1c(c2)c(=O)n(c1=O)*', '*c1ccc(cc1)Oc1ccc(cc1)N1C(=O)c2c(C1=O)cc(cc2)Oc1ccc2c(c1)C(=O)N(C2=O)*', '*c1ccc2c(c1)C(=O)N(C2=O)c1ccc(cc1)Cc1ccc(cc1)N1C(=O)c2c(C1=O)cc(cc2)C(C(C(F)(F)*)(F)F)(F)F', '*c1ccc2c(c1)C(=O)N(C2=O)c1ccc(cc1)Oc1ccc(cc1)N1C(=O)c2c(C1=O)cc(cc2)C(C(C(F)(F)*)(F)F)(F)F', '*c1ccc(cc1)Cc1ccc(cc1)n1c(=O)c2c(c1=O)cc1c(c2)c(=O)n(c1=O)*', '*c1ccc(cc1)C(c1ccc(cc1)n1c(=O)c2c(c1=O)cc1c(c2)c(=O)n(c1=O)*)C', 'CCCCCC(c1ccc(cc1)*)c1ccc(cc1)n1c(=O)c2c(c1=O)cc1c(c2)c(=O)n(c1=O)*']\n",
      "   id                                             SMILES  \\\n",
      "0   1  *c1cccc(c1)Oc1ccc(cc1)c1ccc(cc1)Oc1cccc(c1)n1c...   \n",
      "1   2  *c1ccc(cc1)Oc1ccc(cc1)n1c(=O)c2c(c1=O)cc1c(c2)...   \n",
      "2   3  *C(=O)Oc1ccc(cc1)OC(=O)c1ccc2c(c1)C(=O)N(C2=O)...   \n",
      "3   4  *c1ccc(cc1)Sc1ccc(cc1)n1c(=O)c2c(c1=O)cc1c(c2)...   \n",
      "4   5  *c1ccc(cc1)Oc1ccc(cc1)N1C(=O)c2c(C1=O)cc(cc2)O...   \n",
      "5   6  *c1ccc2c(c1)C(=O)N(C2=O)c1ccc(cc1)Cc1ccc(cc1)N...   \n",
      "6   7  *c1ccc2c(c1)C(=O)N(C2=O)c1ccc(cc1)Oc1ccc(cc1)N...   \n",
      "7   8  *c1ccc(cc1)Cc1ccc(cc1)n1c(=O)c2c(c1=O)cc1c(c2)...   \n",
      "8   9  *c1ccc(cc1)C(c1ccc(cc1)n1c(=O)c2c(c1=O)cc1c(c2...   \n",
      "9  10  CCCCCC(c1ccc(cc1)*)c1ccc(cc1)n1c(=O)c2c(c1=O)c...   \n",
      "\n",
      "   Dielectric constant ac      Ref  MaxEStateIndex  MinEStateIndex  \\\n",
      "0                   3.290  P074317       13.189789       -0.590736   \n",
      "1                   3.370  P130002       12.828811       -0.575081   \n",
      "2                   3.160  P130006       13.302453       -0.741841   \n",
      "3                   3.100  P130008       12.854852       -0.561307   \n",
      "4                   3.595  P130020       13.148545       -0.494438   \n",
      "5                   2.990  P130031       14.239844       -5.696799   \n",
      "6                   3.400  P130034       14.225955       -5.710688   \n",
      "7                   3.150  P130053       12.860061       -0.558552   \n",
      "8                   2.870  P130054       12.924393       -0.559489   \n",
      "9                   3.000  P130055       13.098801       -0.554742   \n",
      "\n",
      "   MaxAbsEStateIndex  MinAbsEStateIndex       qed    MolWt  ...  502  503  \\\n",
      "0          13.189789           0.074233  0.284516  552.542  ...    1    0   \n",
      "1          12.828811           0.100196  0.514340  384.347  ...    1    0   \n",
      "2          13.302453           0.053388  0.090322  624.561  ...    0    0   \n",
      "3          12.854852           0.116999  0.502868  400.415  ...    1    0   \n",
      "4          13.148545           0.204808  0.408909  476.444  ...    0    0   \n",
      "5          14.239844           0.076058  0.169624  608.494  ...    0    0   \n",
      "6          14.225955           0.003942  0.165159  610.466  ...    0    0   \n",
      "7          12.860061           0.120332  0.517032  382.375  ...    1    0   \n",
      "8          12.924393           0.119244  0.507665  396.402  ...    1    0   \n",
      "9          13.098801           0.124889  0.376010  452.510  ...    1    0   \n",
      "\n",
      "   504  505  506  507  508  509  510  511  \n",
      "0    1    0    0    1    0    0    1    1  \n",
      "1    1    0    0    1    0    0    1    1  \n",
      "2    1    0    0    1    0    0    1    1  \n",
      "3    1    0    0    1    0    0    1    1  \n",
      "4    1    0    0    1    0    0    1    1  \n",
      "5    1    0    0    1    1    0    1    1  \n",
      "6    1    0    0    1    1    0    1    1  \n",
      "7    1    0    0    1    0    0    1    1  \n",
      "8    1    0    0    1    0    0    1    1  \n",
      "9    1    0    0    1    0    0    1    1  \n",
      "\n",
      "[10 rows x 725 columns]\n"
     ]
    },
    {
     "name": "stderr",
     "output_type": "stream",
     "text": [
      "c:\\Users\\yaj_k\\Box\\Personal\\python\\2023\\0421chemutil\\ChemGUI\\ChemGraph.py:73: UserWarning: save() called but no resources were supplied and output_file(...) was never called, defaulting to resources.CDN\n",
      "  p.add_layout(color_bar, \"right\")\n",
      "c:\\Users\\yaj_k\\Box\\Personal\\python\\2023\\0421chemutil\\ChemGUI\\ChemGraph.py:73: UserWarning: save() called but no title was supplied and output_file(...) was never called, using default title 'Bokeh Plot'\n",
      "  p.add_layout(color_bar, \"right\")\n"
     ]
    },
    {
     "data": {
      "application/vnd.jupyter.widget-view+json": {
       "model_id": "971314757af74db69521e13b934aac17",
       "version_major": 2,
       "version_minor": 0
      },
      "text/plain": [
       "MolGridWidget()"
      ]
     },
     "metadata": {},
     "output_type": "display_data"
    }
   ],
   "source": [
    "#自動リロード\n",
    "%load_ext autoreload\n",
    "%autoreload 2\n",
    "#解像度をup\n",
    "import ctypes\n",
    "try:\n",
    "    ctypes.windll.shcore.SetProcessDpiAwareness(True)\n",
    "except:\n",
    "    pass\n",
    "\n",
    "from ChemGUI.Notebook import NoteBook\n",
    "import tkinter as tk\n",
    "root = tk.Tk()\n",
    "notebook=NoteBook(root)\n",
    "\n",
    "root.geometry(\"1000x800\")\n",
    "root.title(\"ChemGUI 20230422\")\n",
    "notebook.mainloop()\n"
   ]
  },
  {
   "cell_type": "code",
   "execution_count": 12,
   "metadata": {},
   "outputs": [
    {
     "data": {
      "text/html": [
       "<div>\n",
       "<style scoped>\n",
       "    .dataframe tbody tr th:only-of-type {\n",
       "        vertical-align: middle;\n",
       "    }\n",
       "\n",
       "    .dataframe tbody tr th {\n",
       "        vertical-align: top;\n",
       "    }\n",
       "\n",
       "    .dataframe thead th {\n",
       "        text-align: right;\n",
       "    }\n",
       "</style>\n",
       "<table border=\"1\" class=\"dataframe\">\n",
       "  <thead>\n",
       "    <tr style=\"text-align: right;\">\n",
       "      <th></th>\n",
       "      <th>id</th>\n",
       "      <th>SMILES</th>\n",
       "      <th>Dielectric constant ac</th>\n",
       "      <th>Ref</th>\n",
       "      <th>SMILES</th>\n",
       "    </tr>\n",
       "  </thead>\n",
       "  <tbody>\n",
       "    <tr>\n",
       "      <th>0</th>\n",
       "      <td>1</td>\n",
       "      <td>*c1cccc(c1)Oc1ccc(cc1)c1ccc(cc1)Oc1cccc(c1)n1c...</td>\n",
       "      <td>3.29</td>\n",
       "      <td>P074317</td>\n",
       "      <td>[H]c1cccc(c1)Oc1ccc(cc1)c1ccc(cc1)Oc1cccc(c1)n...</td>\n",
       "    </tr>\n",
       "    <tr>\n",
       "      <th>1</th>\n",
       "      <td>2</td>\n",
       "      <td>*c1ccc(cc1)Oc1ccc(cc1)n1c(=O)c2c(c1=O)cc1c(c2)...</td>\n",
       "      <td>3.37</td>\n",
       "      <td>P130002</td>\n",
       "      <td>[H]c1ccc(cc1)Oc1ccc(cc1)n1c(=O)c2c(c1=O)cc1c(c...</td>\n",
       "    </tr>\n",
       "    <tr>\n",
       "      <th>2</th>\n",
       "      <td>3</td>\n",
       "      <td>*C(=O)Oc1ccc(cc1)OC(=O)c1ccc2c(c1)C(=O)N(C2=O)...</td>\n",
       "      <td>3.16</td>\n",
       "      <td>P130006</td>\n",
       "      <td>[H]C(=O)Oc1ccc(cc1)OC(=O)c1ccc2c(c1)C(=O)N(C2=...</td>\n",
       "    </tr>\n",
       "    <tr>\n",
       "      <th>3</th>\n",
       "      <td>4</td>\n",
       "      <td>*c1ccc(cc1)Sc1ccc(cc1)n1c(=O)c2c(c1=O)cc1c(c2)...</td>\n",
       "      <td>3.10</td>\n",
       "      <td>P130008</td>\n",
       "      <td>[H]c1ccc(cc1)Sc1ccc(cc1)n1c(=O)c2c(c1=O)cc1c(c...</td>\n",
       "    </tr>\n",
       "  </tbody>\n",
       "</table>\n",
       "</div>"
      ],
      "text/plain": [
       "   id                                             SMILES  \\\n",
       "0   1  *c1cccc(c1)Oc1ccc(cc1)c1ccc(cc1)Oc1cccc(c1)n1c...   \n",
       "1   2  *c1ccc(cc1)Oc1ccc(cc1)n1c(=O)c2c(c1=O)cc1c(c2)...   \n",
       "2   3  *C(=O)Oc1ccc(cc1)OC(=O)c1ccc2c(c1)C(=O)N(C2=O)...   \n",
       "3   4  *c1ccc(cc1)Sc1ccc(cc1)n1c(=O)c2c(c1=O)cc1c(c2)...   \n",
       "\n",
       "   Dielectric constant ac      Ref  \\\n",
       "0                    3.29  P074317   \n",
       "1                    3.37  P130002   \n",
       "2                    3.16  P130006   \n",
       "3                    3.10  P130008   \n",
       "\n",
       "                                              SMILES  \n",
       "0  [H]c1cccc(c1)Oc1ccc(cc1)c1ccc(cc1)Oc1cccc(c1)n...  \n",
       "1  [H]c1ccc(cc1)Oc1ccc(cc1)n1c(=O)c2c(c1=O)cc1c(c...  \n",
       "2  [H]C(=O)Oc1ccc(cc1)OC(=O)c1ccc2c(c1)C(=O)N(C2=...  \n",
       "3  [H]c1ccc(cc1)Sc1ccc(cc1)n1c(=O)c2c(c1=O)cc1c(c...  "
      ]
     },
     "execution_count": 12,
     "metadata": {},
     "output_type": "execute_result"
    }
   ],
   "source": [
    "notebook.descriptor_tab.integ_df"
   ]
  },
  {
   "cell_type": "code",
   "execution_count": null,
   "metadata": {},
   "outputs": [],
   "source": []
  }
 ],
 "metadata": {
  "kernelspec": {
   "display_name": "chemvis",
   "language": "python",
   "name": "python3"
  },
  "language_info": {
   "codemirror_mode": {
    "name": "ipython",
    "version": 3
   },
   "file_extension": ".py",
   "mimetype": "text/x-python",
   "name": "python",
   "nbconvert_exporter": "python",
   "pygments_lexer": "ipython3",
   "version": "3.11.3"
  },
  "orig_nbformat": 4
 },
 "nbformat": 4,
 "nbformat_minor": 2
}
