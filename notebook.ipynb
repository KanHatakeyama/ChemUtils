{
 "cells": [
  {
   "cell_type": "code",
   "execution_count": 49,
   "metadata": {},
   "outputs": [
    {
     "name": "stdout",
     "output_type": "stream",
     "text": [
      "The autoreload extension is already loaded. To reload it, use:\n",
      "  %reload_ext autoreload\n"
     ]
    },
    {
     "data": {
      "application/vnd.jupyter.widget-view+json": {
       "model_id": "6a4f3184f2254b5ba44becfbed70b15f",
       "version_major": 2,
       "version_minor": 0
      },
      "text/plain": [
       "MolGridWidget()"
      ]
     },
     "metadata": {},
     "output_type": "display_data"
    }
   ],
   "source": [
    "#自動リロード\n",
    "%load_ext autoreload\n",
    "%autoreload 2\n",
    "#解像度をup\n",
    "import ctypes\n",
    "try:\n",
    "    ctypes.windll.shcore.SetProcessDpiAwareness(True)\n",
    "except:\n",
    "    pass\n",
    "\n",
    "from ChemGUI.Notebook import NoteBook\n",
    "import tkinter as tk\n",
    "root = tk.Tk()\n",
    "notebook=NoteBook(root)\n",
    "\n",
    "root.geometry(\"1000x800\")\n",
    "root.title(\"ChemGUI 20230422\")\n",
    "notebook.mainloop()\n"
   ]
  },
  {
   "cell_type": "code",
   "execution_count": null,
   "metadata": {},
   "outputs": [],
   "source": []
  }
 ],
 "metadata": {
  "kernelspec": {
   "display_name": "chemvis",
   "language": "python",
   "name": "python3"
  },
  "language_info": {
   "codemirror_mode": {
    "name": "ipython",
    "version": 3
   },
   "file_extension": ".py",
   "mimetype": "text/x-python",
   "name": "python",
   "nbconvert_exporter": "python",
   "pygments_lexer": "ipython3",
   "version": "3.11.3"
  },
  "orig_nbformat": 4
 },
 "nbformat": 4,
 "nbformat_minor": 2
}
