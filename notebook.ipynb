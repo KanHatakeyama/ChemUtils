{
 "cells": [
  {
   "cell_type": "code",
   "execution_count": 29,
   "metadata": {},
   "outputs": [
    {
     "name": "stdout",
     "output_type": "stream",
     "text": [
      "The autoreload extension is already loaded. To reload it, use:\n",
      "  %reload_ext autoreload\n",
      "algorithms []\n",
      "rdkit\n",
      "algorithms [<ChemGUI.calculators.Autodescriptor.RDKitDescriptors object at 0x00000230C95DDC10>]\n"
     ]
    }
   ],
   "source": [
    "#自動リロード\n",
    "%load_ext autoreload\n",
    "%autoreload 2\n",
    "#解像度をup\n",
    "import ctypes\n",
    "try:\n",
    "    ctypes.windll.shcore.SetProcessDpiAwareness(True)\n",
    "except:\n",
    "    pass\n",
    "\n",
    "from ChemGUI.Notebook import NoteBook\n",
    "import tkinter as tk\n",
    "root = tk.Tk()\n",
    "notebook=NoteBook(root)\n",
    "\n",
    "root.geometry(\"1000x800\")\n",
    "root.title(\"ChemGUI 20230422\")\n",
    "notebook.mainloop()\n"
   ]
  },
  {
   "cell_type": "code",
   "execution_count": 12,
   "metadata": {},
   "outputs": [
    {
     "data": {
      "text/html": [
       "<div>\n",
       "<style scoped>\n",
       "    .dataframe tbody tr th:only-of-type {\n",
       "        vertical-align: middle;\n",
       "    }\n",
       "\n",
       "    .dataframe tbody tr th {\n",
       "        vertical-align: top;\n",
       "    }\n",
       "\n",
       "    .dataframe thead th {\n",
       "        text-align: right;\n",
       "    }\n",
       "</style>\n",
       "<table border=\"1\" class=\"dataframe\">\n",
       "  <thead>\n",
       "    <tr style=\"text-align: right;\">\n",
       "      <th></th>\n",
       "      <th>id</th>\n",
       "      <th>SMILES</th>\n",
       "      <th>Dielectric constant ac</th>\n",
       "      <th>Ref</th>\n",
       "      <th>SMILES</th>\n",
       "    </tr>\n",
       "  </thead>\n",
       "  <tbody>\n",
       "    <tr>\n",
       "      <th>0</th>\n",
       "      <td>1</td>\n",
       "      <td>*c1cccc(c1)Oc1ccc(cc1)c1ccc(cc1)Oc1cccc(c1)n1c...</td>\n",
       "      <td>3.29</td>\n",
       "      <td>P074317</td>\n",
       "      <td>[H]c1cccc(c1)Oc1ccc(cc1)c1ccc(cc1)Oc1cccc(c1)n...</td>\n",
       "    </tr>\n",
       "    <tr>\n",
       "      <th>1</th>\n",
       "      <td>2</td>\n",
       "      <td>*c1ccc(cc1)Oc1ccc(cc1)n1c(=O)c2c(c1=O)cc1c(c2)...</td>\n",
       "      <td>3.37</td>\n",
       "      <td>P130002</td>\n",
       "      <td>[H]c1ccc(cc1)Oc1ccc(cc1)n1c(=O)c2c(c1=O)cc1c(c...</td>\n",
       "    </tr>\n",
       "    <tr>\n",
       "      <th>2</th>\n",
       "      <td>3</td>\n",
       "      <td>*C(=O)Oc1ccc(cc1)OC(=O)c1ccc2c(c1)C(=O)N(C2=O)...</td>\n",
       "      <td>3.16</td>\n",
       "      <td>P130006</td>\n",
       "      <td>[H]C(=O)Oc1ccc(cc1)OC(=O)c1ccc2c(c1)C(=O)N(C2=...</td>\n",
       "    </tr>\n",
       "    <tr>\n",
       "      <th>3</th>\n",
       "      <td>4</td>\n",
       "      <td>*c1ccc(cc1)Sc1ccc(cc1)n1c(=O)c2c(c1=O)cc1c(c2)...</td>\n",
       "      <td>3.10</td>\n",
       "      <td>P130008</td>\n",
       "      <td>[H]c1ccc(cc1)Sc1ccc(cc1)n1c(=O)c2c(c1=O)cc1c(c...</td>\n",
       "    </tr>\n",
       "  </tbody>\n",
       "</table>\n",
       "</div>"
      ],
      "text/plain": [
       "   id                                             SMILES  \\\n",
       "0   1  *c1cccc(c1)Oc1ccc(cc1)c1ccc(cc1)Oc1cccc(c1)n1c...   \n",
       "1   2  *c1ccc(cc1)Oc1ccc(cc1)n1c(=O)c2c(c1=O)cc1c(c2)...   \n",
       "2   3  *C(=O)Oc1ccc(cc1)OC(=O)c1ccc2c(c1)C(=O)N(C2=O)...   \n",
       "3   4  *c1ccc(cc1)Sc1ccc(cc1)n1c(=O)c2c(c1=O)cc1c(c2)...   \n",
       "\n",
       "   Dielectric constant ac      Ref  \\\n",
       "0                    3.29  P074317   \n",
       "1                    3.37  P130002   \n",
       "2                    3.16  P130006   \n",
       "3                    3.10  P130008   \n",
       "\n",
       "                                              SMILES  \n",
       "0  [H]c1cccc(c1)Oc1ccc(cc1)c1ccc(cc1)Oc1cccc(c1)n...  \n",
       "1  [H]c1ccc(cc1)Oc1ccc(cc1)n1c(=O)c2c(c1=O)cc1c(c...  \n",
       "2  [H]C(=O)Oc1ccc(cc1)OC(=O)c1ccc2c(c1)C(=O)N(C2=...  \n",
       "3  [H]c1ccc(cc1)Sc1ccc(cc1)n1c(=O)c2c(c1=O)cc1c(c...  "
      ]
     },
     "execution_count": 12,
     "metadata": {},
     "output_type": "execute_result"
    }
   ],
   "source": [
    "notebook.descriptor_tab.integ_df"
   ]
  },
  {
   "cell_type": "code",
   "execution_count": null,
   "metadata": {},
   "outputs": [],
   "source": []
  }
 ],
 "metadata": {
  "kernelspec": {
   "display_name": "chemvis",
   "language": "python",
   "name": "python3"
  },
  "language_info": {
   "codemirror_mode": {
    "name": "ipython",
    "version": 3
   },
   "file_extension": ".py",
   "mimetype": "text/x-python",
   "name": "python",
   "nbconvert_exporter": "python",
   "pygments_lexer": "ipython3",
   "version": "3.11.3"
  },
  "orig_nbformat": 4
 },
 "nbformat": 4,
 "nbformat_minor": 2
}
