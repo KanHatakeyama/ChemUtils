{
 "cells": [
  {
   "cell_type": "code",
   "execution_count": 1,
   "metadata": {},
   "outputs": [],
   "source": [
    "#自動リロード\n",
    "%load_ext autoreload\n",
    "%autoreload 2\n",
    "#解像度をup\n",
    "import ctypes\n",
    "try:\n",
    "    ctypes.windll.shcore.SetProcessDpiAwareness(True)\n",
    "except:\n",
    "    pass\n",
    "\n"
   ]
  },
  {
   "cell_type": "code",
   "execution_count": 13,
   "metadata": {},
   "outputs": [
    {
     "name": "stderr",
     "output_type": "stream",
     "text": [
      "c:\\Users\\yaj_k\\Box\\Personal\\python\\2023\\0421chemutil\\ChemGUI\\ChemGraph.py:72: UserWarning: save() called but no resources were supplied and output_file(...) was never called, defaulting to resources.CDN\n",
      "  save(p, filename=filename)\n",
      "c:\\Users\\yaj_k\\Box\\Personal\\python\\2023\\0421chemutil\\ChemGUI\\ChemGraph.py:72: UserWarning: save() called but no title was supplied and output_file(...) was never called, using default title 'Bokeh Plot'\n",
      "  save(p, filename=filename)\n"
     ]
    }
   ],
   "source": [
    "from ChemGUI.Notebook import NoteBook\n",
    "import tkinter as tk\n",
    "root = tk.Tk()\n",
    "notebook=NoteBook(root)\n",
    "\n",
    "root.geometry(\"1000x800\")\n",
    "root.title(\"ChemGUI 20230422\")\n",
    "notebook.mainloop()"
   ]
  },
  {
   "cell_type": "code",
   "execution_count": null,
   "metadata": {},
   "outputs": [],
   "source": []
  }
 ],
 "metadata": {
  "kernelspec": {
   "display_name": "chemvis",
   "language": "python",
   "name": "python3"
  },
  "language_info": {
   "codemirror_mode": {
    "name": "ipython",
    "version": 3
   },
   "file_extension": ".py",
   "mimetype": "text/x-python",
   "name": "python",
   "nbconvert_exporter": "python",
   "pygments_lexer": "ipython3",
   "version": "3.11.3"
  },
  "orig_nbformat": 4
 },
 "nbformat": 4,
 "nbformat_minor": 2
}
